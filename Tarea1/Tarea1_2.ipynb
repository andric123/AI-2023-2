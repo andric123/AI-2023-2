{
 "cells": [
  {
   "cell_type": "markdown",
   "id": "0eef9459",
   "metadata": {},
   "source": [
    "# Tarea 1\n",
    "\n",
    "### 3. Escriba una clase con las siguientes funcionalidades:\n",
    "    \n",
    "    3.1 Al instanciar un objeto, lee un conjunto de datos numéricos. Por ejemplo puede usar el mismo conjunto de datos iris.csv. Instancie los datos en un dataframe de Pandas.\n",
    "    \n",
    "    3.2 Implemente un método que calcule las estadísticas descriptivas básicas de cada una de las variables (sepal.length, sepal.width, petal.length, etc)\n",
    "    \n",
    "    3.3 Implemente un método que entregue los nombre de las variables disponibles.\n",
    "    \n",
    "    3.3 Implemente un método que reciba el nombre de una variable disponible dentro del objeto (en el dataframe) y regrese: sus estadísticas básicas: media, mediana, desviación, percentiles q25, q50, q75 y dibuje un histograma de la distribución de la variable.\n"
   ]
  },
  {
   "cell_type": "code",
   "execution_count": null,
   "id": "e6ba6bec",
   "metadata": {},
   "outputs": [],
   "source": [
    "import numpy as np\n",
    "import pandas as pd\n",
    "import matplotlib.pyplot as plt"
   ]
  },
  {
   "cell_type": "code",
   "execution_count": null,
   "id": "2cd34e13",
   "metadata": {},
   "outputs": [],
   "source": [
    "iris= pd.read_csv(\"iris.csv\")"
   ]
  },
  {
   "cell_type": "code",
   "execution_count": null,
   "id": "34e4cbfb",
   "metadata": {},
   "outputs": [],
   "source": [
    "class Estadisticas:\n",
    "    def __init__(self, dataset):\n",
    "        self.dataset = dataset  # Usar el DataFrame proporcionado como argumento\n",
    "    \n",
    "    def descriptivas(self):\n",
    "        return self.dataset.describe()\n",
    "    \n",
    "    def nombres(self):\n",
    "        # Nombres de las columnas\n",
    "        return list(self.dataset.columns)\n",
    "    \n",
    "    def variable(self, name):\n",
    "        # Estadísticas descriptivas por columnas\n",
    "        if name in self.dataset.columns:\n",
    "            column = self.dataset[name]\n",
    "            count = column.count()\n",
    "            mean = column.mean()\n",
    "            median = column.median()\n",
    "            std = column.std()\n",
    "            q25 = column.quantile(0.25)\n",
    "            q50 = column.quantile(0.50)\n",
    "            q75 = column.quantile(0.75)\n",
    "            \n",
    "            print(name)\n",
    "            print(f'Registros no nulos: {count}')\n",
    "            print(f'Media: {mean}')\n",
    "            print(f'Mediana: {median}')\n",
    "            print(f'Desviación estándar: {std}')\n",
    "            print(f'Percentil 25: {q25}')\n",
    "            print(f'Percentil 50 (Mediana): {q50}')\n",
    "            print(f'Percentil 75: {q75}')\n",
    "            \n",
    "            # Histograma\n",
    "            plt.figure(figsize=(8, 6))\n",
    "            plt.hist(column, bins=20, color='skyblue', edgecolor='black')\n",
    "            plt.xlabel(name)\n",
    "            plt.ylabel('Frecuencia')\n",
    "            plt.title(f'Histograma de {name}')\n",
    "            plt.show()\n",
    "        else:\n",
    "            print(f'Variable {name} no encontrada.')\n",
    "            \n",
    "# Crear una instancia de la clase Estadisticas usando el DataFrame \"iris\"\n"
   ]
  },
  {
   "cell_type": "markdown",
   "id": "eb45b9e8",
   "metadata": {},
   "source": [
    "### Prueba"
   ]
  },
  {
   "cell_type": "code",
   "execution_count": null,
   "id": "28f9bea9",
   "metadata": {},
   "outputs": [],
   "source": [
    "iris_stats = Estadisticas(iris)"
   ]
  },
  {
   "cell_type": "code",
   "execution_count": null,
   "id": "6f14c121",
   "metadata": {},
   "outputs": [],
   "source": [
    "iris_stats.descriptivas()"
   ]
  },
  {
   "cell_type": "code",
   "execution_count": null,
   "id": "e6dc0e9e",
   "metadata": {},
   "outputs": [],
   "source": [
    "iris_stats.nombres()"
   ]
  },
  {
   "cell_type": "code",
   "execution_count": null,
   "id": "1c372601",
   "metadata": {},
   "outputs": [],
   "source": []
  }
 ],
 "metadata": {
  "kernelspec": {
   "display_name": "Python 3 (ipykernel)",
   "language": "python",
   "name": "python3"
  },
  "language_info": {
   "codemirror_mode": {
    "name": "ipython",
    "version": 3
   },
   "file_extension": ".py",
   "mimetype": "text/x-python",
   "name": "python",
   "nbconvert_exporter": "python",
   "pygments_lexer": "ipython3",
   "version": "3.9.12"
  }
 },
 "nbformat": 4,
 "nbformat_minor": 5
}
