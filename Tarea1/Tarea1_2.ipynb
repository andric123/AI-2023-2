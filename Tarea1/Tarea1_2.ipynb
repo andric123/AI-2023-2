{
 "cells": [
  {
   "cell_type": "markdown",
   "id": "0eef9459",
   "metadata": {},
   "source": [
    "# Tarea 1\n",
    "\n",
    "### 3. Escriba una clase con las siguientes funcionalidades:\n",
    "    \n",
    "    3.1 Al instanciar un objeto, lee un conjunto de datos numéricos. Por ejemplo puede usar el mismo conjunto de datos iris.csv. Instancie los datos en un dataframe de Pandas.\n",
    "    \n",
    "    3.2 Implemente un método que calcule las estadísticas descriptivas básicas de cada una de las variables (sepal.length, sepal.width, petal.length, etc)\n",
    "    \n",
    "    3.3 Implemente un método que entregue los nombre de las variables disponibles.\n",
    "    \n",
    "    3.3 Implemente un método que reciba el nombre de una variable disponible dentro del objeto (en el dataframe) y regrese: sus estadísticas básicas: media, mediana, desviación, percentiles q25, q50, q75 y dibuje un histograma de la distribución de la variable.\n"
   ]
  },
  {
   "cell_type": "code",
   "execution_count": 1,
   "id": "e6ba6bec",
   "metadata": {},
   "outputs": [],
   "source": [
    "import numpy as np\n",
    "import pandas as pd\n",
    "import matplotlib.pyplot as plt"
   ]
  },
  {
   "cell_type": "code",
   "execution_count": 2,
   "id": "2cd34e13",
   "metadata": {},
   "outputs": [],
   "source": [
    "iris= pd.read_csv(\"iris.csv\")"
   ]
  },
  {
   "cell_type": "code",
   "execution_count": 8,
   "id": "34e4cbfb",
   "metadata": {},
   "outputs": [],
   "source": [
    "class Estadisticas:\n",
    "    def __init__(self, dataset):\n",
    "        self.dataset = dataset  # Usar el DataFrame proporcionado como argumento\n",
    "    \n",
    "    def descriptivas(self):\n",
    "        return self.dataset.describe()\n",
    "    \n",
    "    def nombres(self):\n",
    "        # Nombres de las columnas\n",
    "        return list(self.dataset.columns)\n",
    "    \n",
    "    def variable(self, name):\n",
    "        # Estadísticas descriptivas por columnas\n",
    "        if name in self.dataset.columns:\n",
    "            column = self.dataset[name]\n",
    "            count = column.count()\n",
    "            mean = column.mean()\n",
    "            median = column.median()\n",
    "            std = column.std()\n",
    "            q25 = column.quantile(0.25)\n",
    "            q50 = column.quantile(0.50)\n",
    "            q75 = column.quantile(0.75)\n",
    "            \n",
    "            print(name)\n",
    "            print(f'Registros no nulos: {count}')\n",
    "            print(f'Media: {mean}')\n",
    "            print(f'Mediana: {median}')\n",
    "            print(f'Desviación estándar: {std}')\n",
    "            print(f'Percentil 25: {q25}')\n",
    "            print(f'Percentil 50 (Mediana): {q50}')\n",
    "            print(f'Percentil 75: {q75}')\n",
    "            \n",
    "            # Histograma\n",
    "            plt.figure(figsize=(8, 6))\n",
    "            plt.hist(column, bins=20, color='blue', edgecolor='black')\n",
    "            plt.xlabel(name)\n",
    "            plt.ylabel('Frecuencia')\n",
    "            plt.title(f'Histograma de {name}')\n",
    "            plt.show()\n",
    "        else:\n",
    "            print(f'Variable {name} no encontrada.')\n",
    "            \n",
    "# Crear una instancia de la clase Estadisticas usando el DataFrame \"iris\"\n"
   ]
  },
  {
   "cell_type": "markdown",
   "id": "eb45b9e8",
   "metadata": {},
   "source": [
    "### Prueba"
   ]
  },
  {
   "cell_type": "code",
   "execution_count": 9,
   "id": "28f9bea9",
   "metadata": {},
   "outputs": [],
   "source": [
    "iris_stats = Estadisticas(iris)"
   ]
  },
  {
   "cell_type": "code",
   "execution_count": 10,
   "id": "6f14c121",
   "metadata": {},
   "outputs": [
    {
     "data": {
      "text/html": [
       "<div>\n",
       "<style scoped>\n",
       "    .dataframe tbody tr th:only-of-type {\n",
       "        vertical-align: middle;\n",
       "    }\n",
       "\n",
       "    .dataframe tbody tr th {\n",
       "        vertical-align: top;\n",
       "    }\n",
       "\n",
       "    .dataframe thead th {\n",
       "        text-align: right;\n",
       "    }\n",
       "</style>\n",
       "<table border=\"1\" class=\"dataframe\">\n",
       "  <thead>\n",
       "    <tr style=\"text-align: right;\">\n",
       "      <th></th>\n",
       "      <th>sepal.length</th>\n",
       "      <th>sepal.width</th>\n",
       "      <th>petal.length</th>\n",
       "      <th>petal.width</th>\n",
       "    </tr>\n",
       "  </thead>\n",
       "  <tbody>\n",
       "    <tr>\n",
       "      <th>count</th>\n",
       "      <td>150.000000</td>\n",
       "      <td>150.000000</td>\n",
       "      <td>150.000000</td>\n",
       "      <td>150.000000</td>\n",
       "    </tr>\n",
       "    <tr>\n",
       "      <th>mean</th>\n",
       "      <td>5.843333</td>\n",
       "      <td>3.057333</td>\n",
       "      <td>3.758000</td>\n",
       "      <td>1.199333</td>\n",
       "    </tr>\n",
       "    <tr>\n",
       "      <th>std</th>\n",
       "      <td>0.828066</td>\n",
       "      <td>0.435866</td>\n",
       "      <td>1.765298</td>\n",
       "      <td>0.762238</td>\n",
       "    </tr>\n",
       "    <tr>\n",
       "      <th>min</th>\n",
       "      <td>4.300000</td>\n",
       "      <td>2.000000</td>\n",
       "      <td>1.000000</td>\n",
       "      <td>0.100000</td>\n",
       "    </tr>\n",
       "    <tr>\n",
       "      <th>25%</th>\n",
       "      <td>5.100000</td>\n",
       "      <td>2.800000</td>\n",
       "      <td>1.600000</td>\n",
       "      <td>0.300000</td>\n",
       "    </tr>\n",
       "    <tr>\n",
       "      <th>50%</th>\n",
       "      <td>5.800000</td>\n",
       "      <td>3.000000</td>\n",
       "      <td>4.350000</td>\n",
       "      <td>1.300000</td>\n",
       "    </tr>\n",
       "    <tr>\n",
       "      <th>75%</th>\n",
       "      <td>6.400000</td>\n",
       "      <td>3.300000</td>\n",
       "      <td>5.100000</td>\n",
       "      <td>1.800000</td>\n",
       "    </tr>\n",
       "    <tr>\n",
       "      <th>max</th>\n",
       "      <td>7.900000</td>\n",
       "      <td>4.400000</td>\n",
       "      <td>6.900000</td>\n",
       "      <td>2.500000</td>\n",
       "    </tr>\n",
       "  </tbody>\n",
       "</table>\n",
       "</div>"
      ],
      "text/plain": [
       "       sepal.length  sepal.width  petal.length  petal.width\n",
       "count    150.000000   150.000000    150.000000   150.000000\n",
       "mean       5.843333     3.057333      3.758000     1.199333\n",
       "std        0.828066     0.435866      1.765298     0.762238\n",
       "min        4.300000     2.000000      1.000000     0.100000\n",
       "25%        5.100000     2.800000      1.600000     0.300000\n",
       "50%        5.800000     3.000000      4.350000     1.300000\n",
       "75%        6.400000     3.300000      5.100000     1.800000\n",
       "max        7.900000     4.400000      6.900000     2.500000"
      ]
     },
     "execution_count": 10,
     "metadata": {},
     "output_type": "execute_result"
    }
   ],
   "source": [
    "iris_stats.descriptivas()"
   ]
  },
  {
   "cell_type": "code",
   "execution_count": 11,
   "id": "e6dc0e9e",
   "metadata": {},
   "outputs": [
    {
     "data": {
      "text/plain": [
       "['sepal.length', 'sepal.width', 'petal.length', 'petal.width', 'variety']"
      ]
     },
     "execution_count": 11,
     "metadata": {},
     "output_type": "execute_result"
    }
   ],
   "source": [
    "iris_stats.nombres()"
   ]
  },
  {
   "cell_type": "code",
   "execution_count": 12,
   "id": "1c372601",
   "metadata": {},
   "outputs": [
    {
     "name": "stdout",
     "output_type": "stream",
     "text": [
      "sepal.width\n",
      "Registros no nulos: 150\n",
      "Media: 3.057333333333334\n",
      "Mediana: 3.0\n",
      "Desviación estándar: 0.435866284936698\n",
      "Percentil 25: 2.8\n",
      "Percentil 50 (Mediana): 3.0\n",
      "Percentil 75: 3.3\n"
     ]
    },
    {
     "data": {
      "image/png": "[encoded data removed]",
      "text/plain": [
       "<Figure size 576x432 with 1 Axes>"
      ]
     },
     "metadata": {
      "needs_background": "light"
     },
     "output_type": "display_data"
    }
   ],
   "source": [
    "iris_stats.variable(name=\"sepal.width\")"
   ]
  }
 ],
 "metadata": {
  "kernelspec": {
   "display_name": "Python 3 (ipykernel)",
   "language": "python",
   "name": "python3"
  },
  "language_info": {
   "codemirror_mode": {
    "name": "ipython",
    "version": 3
   },
   "file_extension": ".py",
   "mimetype": "text/x-python",
   "name": "python",
   "nbconvert_exporter": "python",
   "pygments_lexer": "ipython3",
   "version": "3.9.12"
  }
 },
 "nbformat": 4,
 "nbformat_minor": 5
}
